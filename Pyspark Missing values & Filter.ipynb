{
 "cells": [
  {
   "cell_type": "code",
   "execution_count": 1,
   "metadata": {},
   "outputs": [],
   "source": [
    "import pandas as pd\n",
    "import numpy as np"
   ]
  },
  {
   "cell_type": "code",
   "execution_count": 2,
   "metadata": {},
   "outputs": [],
   "source": [
    "from pyspark.sql import SparkSession\n",
    "spark = SparkSession.builder.appName('Practice').getOrCreate()"
   ]
  },
  {
   "cell_type": "code",
   "execution_count": 16,
   "metadata": {},
   "outputs": [],
   "source": [
    "df_pyspark = spark.read.csv('world_population2.csv',header = True,inferSchema=True)"
   ]
  },
  {
   "cell_type": "code",
   "execution_count": 17,
   "metadata": {},
   "outputs": [
    {
     "name": "stdout",
     "output_type": "stream",
     "text": [
      "+---------+------------+----------+\n",
      "|  Country|Capital City|Population|\n",
      "+---------+------------+----------+\n",
      "|    China|     Beijing|  21542000|\n",
      "|    Japan|       Tokyo|  13929000|\n",
      "|   Russia|      Moscow|  12500000|\n",
      "|Indonesia|        null|      null|\n",
      "|    India|   New Delhi|      null|\n",
      "|     null|        null|   9500000|\n",
      "+---------+------------+----------+\n",
      "\n"
     ]
    }
   ],
   "source": [
    "df_pyspark.show()"
   ]
  },
  {
   "cell_type": "code",
   "execution_count": 18,
   "metadata": {},
   "outputs": [
    {
     "name": "stdout",
     "output_type": "stream",
     "text": [
      "+---------+------------+\n",
      "|  Country|Capital City|\n",
      "+---------+------------+\n",
      "|    China|     Beijing|\n",
      "|    Japan|       Tokyo|\n",
      "|   Russia|      Moscow|\n",
      "|Indonesia|        null|\n",
      "|    India|   New Delhi|\n",
      "|     null|        null|\n",
      "+---------+------------+\n",
      "\n"
     ]
    }
   ],
   "source": [
    "df_pyspark.drop('Population').show()"
   ]
  },
  {
   "cell_type": "code",
   "execution_count": 19,
   "metadata": {},
   "outputs": [
    {
     "name": "stdout",
     "output_type": "stream",
     "text": [
      "+-------+------------+----------+\n",
      "|Country|Capital City|Population|\n",
      "+-------+------------+----------+\n",
      "|  China|     Beijing|  21542000|\n",
      "|  Japan|       Tokyo|  13929000|\n",
      "| Russia|      Moscow|  12500000|\n",
      "+-------+------------+----------+\n",
      "\n"
     ]
    }
   ],
   "source": [
    "df_pyspark.na.drop().show()\n"
   ]
  },
  {
   "cell_type": "code",
   "execution_count": 20,
   "metadata": {},
   "outputs": [
    {
     "name": "stdout",
     "output_type": "stream",
     "text": [
      "+-------+------------+----------+\n",
      "|Country|Capital City|Population|\n",
      "+-------+------------+----------+\n",
      "|  China|     Beijing|  21542000|\n",
      "|  Japan|       Tokyo|  13929000|\n",
      "| Russia|      Moscow|  12500000|\n",
      "+-------+------------+----------+\n",
      "\n"
     ]
    }
   ],
   "source": [
    "df_pyspark.na.drop(how=\"any\").show()"
   ]
  },
  {
   "cell_type": "code",
   "execution_count": 23,
   "metadata": {},
   "outputs": [
    {
     "name": "stdout",
     "output_type": "stream",
     "text": [
      "+-------+------------+----------+\n",
      "|Country|Capital City|Population|\n",
      "+-------+------------+----------+\n",
      "|  China|     Beijing|  21542000|\n",
      "|  Japan|       Tokyo|  13929000|\n",
      "| Russia|      Moscow|  12500000|\n",
      "|  India|   New Delhi|      null|\n",
      "+-------+------------+----------+\n",
      "\n"
     ]
    }
   ],
   "source": [
    "#threshold\n",
    "df_pyspark.na.drop(how=\"any\",thresh=2).show()"
   ]
  },
  {
   "cell_type": "code",
   "execution_count": 25,
   "metadata": {},
   "outputs": [
    {
     "name": "stdout",
     "output_type": "stream",
     "text": [
      "+-------+------------+----------+\n",
      "|Country|Capital City|Population|\n",
      "+-------+------------+----------+\n",
      "|  China|     Beijing|  21542000|\n",
      "|  Japan|       Tokyo|  13929000|\n",
      "| Russia|      Moscow|  12500000|\n",
      "|   null|        null|   9500000|\n",
      "+-------+------------+----------+\n",
      "\n"
     ]
    }
   ],
   "source": [
    "#subset\n",
    "df_pyspark.na.drop(how=\"any\",subset=['Population']).show()"
   ]
  },
  {
   "cell_type": "code",
   "execution_count": 27,
   "metadata": {},
   "outputs": [
    {
     "name": "stdout",
     "output_type": "stream",
     "text": [
      "+---------+------------+----------+\n",
      "|  Country|Capital City|Population|\n",
      "+---------+------------+----------+\n",
      "|    China|     Beijing|  21542000|\n",
      "|    Japan|       Tokyo|  13929000|\n",
      "|   Russia|      Moscow|  12500000|\n",
      "|Indonesia|          NA|      null|\n",
      "|    India|   New Delhi|      null|\n",
      "|       NA|          NA|   9500000|\n",
      "+---------+------------+----------+\n",
      "\n"
     ]
    }
   ],
   "source": [
    "#Fill missing values\n",
    "df_pyspark.na.fill('NA').show()"
   ]
  },
  {
   "cell_type": "code",
   "execution_count": 28,
   "metadata": {},
   "outputs": [
    {
     "name": "stdout",
     "output_type": "stream",
     "text": [
      "+---------+------------+----------+\n",
      "|  Country|Capital City|Population|\n",
      "+---------+------------+----------+\n",
      "|    China|     Beijing|  21542000|\n",
      "|    Japan|       Tokyo|  13929000|\n",
      "|   Russia|      Moscow|  12500000|\n",
      "|Indonesia|         Cap|      null|\n",
      "|    India|   New Delhi|      null|\n",
      "|     null|         Cap|   9500000|\n",
      "+---------+------------+----------+\n",
      "\n"
     ]
    }
   ],
   "source": [
    "#fill missing in specific columns\n",
    "df_pyspark.na.fill('Cap',['Capital City']).show()"
   ]
  },
  {
   "cell_type": "code",
   "execution_count": 36,
   "metadata": {},
   "outputs": [],
   "source": [
    "from pyspark.ml.feature import Imputer"
   ]
  },
  {
   "cell_type": "code",
   "execution_count": 38,
   "metadata": {},
   "outputs": [],
   "source": [
    "imputer = Imputer(\n",
    "            inputCols = ['Population'],\n",
    "            outputCols= [\"{}_imputed\".format(c) for c in ['Population']]\n",
    "                    ).setStrategy(\"mean\")"
   ]
  },
  {
   "cell_type": "code",
   "execution_count": 41,
   "metadata": {},
   "outputs": [
    {
     "ename": "NameError",
     "evalue": "name 'fit' is not defined",
     "output_type": "error",
     "traceback": [
      "\u001b[1;31m---------------------------------------------------------------------------\u001b[0m",
      "\u001b[1;31mNameError\u001b[0m                                 Traceback (most recent call last)",
      "\u001b[1;32m<ipython-input-41-279975bba9ba>\u001b[0m in \u001b[0;36m<module>\u001b[1;34m\u001b[0m\n\u001b[1;32m----> 1\u001b[1;33m \u001b[0mfit\u001b[0m\u001b[1;33m(\u001b[0m\u001b[0mdf_pyspark\u001b[0m\u001b[1;33m)\u001b[0m\u001b[1;33m.\u001b[0m\u001b[0mtransform\u001b[0m\u001b[1;33m(\u001b[0m\u001b[0mdf_pyspark\u001b[0m\u001b[1;33m)\u001b[0m\u001b[1;33m.\u001b[0m\u001b[0mshow\u001b[0m\u001b[1;33m(\u001b[0m\u001b[1;33m)\u001b[0m\u001b[1;33m\u001b[0m\u001b[1;33m\u001b[0m\u001b[0m\n\u001b[0m",
      "\u001b[1;31mNameError\u001b[0m: name 'fit' is not defined"
     ]
    }
   ],
   "source": [
    "fit(df_pyspark).transform(df_pyspark).show()"
   ]
  },
  {
   "cell_type": "markdown",
   "metadata": {},
   "source": [
    "## Filter operation"
   ]
  },
  {
   "cell_type": "code",
   "execution_count": 42,
   "metadata": {},
   "outputs": [
    {
     "name": "stdout",
     "output_type": "stream",
     "text": [
      "+-------+------------+----------+\n",
      "|Country|Capital City|Population|\n",
      "+-------+------------+----------+\n",
      "|  China|     Beijing|  21542000|\n",
      "|  Japan|       Tokyo|  13929000|\n",
      "| Russia|      Moscow|  12500000|\n",
      "+-------+------------+----------+\n",
      "\n"
     ]
    }
   ],
   "source": [
    "##Basic filter\n",
    "\n",
    "df_pyspark.filter(\"Population>=12000000\").show()"
   ]
  },
  {
   "cell_type": "code",
   "execution_count": 43,
   "metadata": {},
   "outputs": [
    {
     "name": "stdout",
     "output_type": "stream",
     "text": [
      "+-------+\n",
      "|Country|\n",
      "+-------+\n",
      "|  China|\n",
      "|  Japan|\n",
      "| Russia|\n",
      "+-------+\n",
      "\n"
     ]
    }
   ],
   "source": [
    "df_pyspark.filter(\"Population>=12000000\").select(['Country']).show()"
   ]
  },
  {
   "cell_type": "code",
   "execution_count": 46,
   "metadata": {},
   "outputs": [
    {
     "ename": "SyntaxError",
     "evalue": "invalid syntax (<ipython-input-46-626c77d79ca7>, line 1)",
     "output_type": "error",
     "traceback": [
      "\u001b[1;36m  File \u001b[1;32m\"<ipython-input-46-626c77d79ca7>\"\u001b[1;36m, line \u001b[1;32m1\u001b[0m\n\u001b[1;33m    df_pyspark.filter((df_pyspark['Population']>=12000000)&(df_pyspark['Capital City']=\"Tokyo\")).show()\u001b[0m\n\u001b[1;37m                                                                                      ^\u001b[0m\n\u001b[1;31mSyntaxError\u001b[0m\u001b[1;31m:\u001b[0m invalid syntax\n"
     ]
    }
   ],
   "source": [
    "df_pyspark.filter((df_pyspark['Population']>=12000000)&(df_pyspark['Capital City']=\"Tokyo\")).show()"
   ]
  },
  {
   "cell_type": "code",
   "execution_count": null,
   "metadata": {},
   "outputs": [],
   "source": []
  }
 ],
 "metadata": {
  "kernelspec": {
   "display_name": "Python 3",
   "language": "python",
   "name": "python3"
  },
  "language_info": {
   "codemirror_mode": {
    "name": "ipython",
    "version": 3
   },
   "file_extension": ".py",
   "mimetype": "text/x-python",
   "name": "python",
   "nbconvert_exporter": "python",
   "pygments_lexer": "ipython3",
   "version": "3.7.3"
  }
 },
 "nbformat": 4,
 "nbformat_minor": 2
}
